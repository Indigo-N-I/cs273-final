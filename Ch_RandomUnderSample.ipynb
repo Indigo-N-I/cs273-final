{
 "cells": [
  {
   "cell_type": "code",
   "execution_count": 147,
   "id": "114bf436",
   "metadata": {},
   "outputs": [
    {
     "name": "stdout",
     "output_type": "stream",
     "text": [
      "0.10.1\n"
     ]
    }
   ],
   "source": [
    "# check version number\n",
    "import imblearn\n",
    "print(imblearn.__version__)"
   ]
  },
  {
   "cell_type": "code",
   "execution_count": 148,
   "id": "d8c1f436",
   "metadata": {},
   "outputs": [],
   "source": [
    "from imblearn.under_sampling import RandomUnderSampler\n",
    "import pandas as pd"
   ]
  },
  {
   "cell_type": "code",
   "execution_count": 149,
   "id": "b4be6bfd",
   "metadata": {},
   "outputs": [
    {
     "name": "stdout",
     "output_type": "stream",
     "text": [
      "    toxic  severe_toxic  obscene  threat  insult  identity_hate\n",
      "0  144277        157976   151122  159093  151694         158166\n",
      "1   15294          1595     8449     478    7877           1405\n"
     ]
    }
   ],
   "source": [
    "\n",
    "df = pd.read_csv('/Users/youli/Desktop/UC_Irvine/WQ_2023/CS273P/project/jigsaw-toxic-comment-classification-challenge-2/train.csv')\n",
    "\n",
    "\n",
    "labels = ['toxic', 'severe_toxic', 'obscene', 'threat', 'insult', 'identity_hate']\n",
    "\n",
    "\n",
    "X = df.drop(labels, axis=1)\n",
    "y = df[labels]\n",
    "\n",
    "\n",
    "label_counts = y.apply(pd.Series.value_counts)\n",
    "\n",
    "\n",
    "print(label_counts)"
   ]
  },
  {
   "cell_type": "code",
   "execution_count": 150,
   "id": "6fa22c3e",
   "metadata": {},
   "outputs": [
    {
     "name": "stdout",
     "output_type": "stream",
     "text": [
      "X_resampled.shape: (32450, 1)\n",
      "y_resampled.shape: (32450,)\n"
     ]
    }
   ],
   "source": [
    "\n",
    "from sklearn.preprocessing import MultiLabelBinarizer\n",
    "\n",
    "#sum all cols to total\n",
    "mlb = MultiLabelBinarizer()\n",
    "sum_cols = ['toxic', 'severe_toxic', 'obscene', 'threat', 'insult', 'identity_hate']\n",
    "df.loc[(df[sum_cols].sum(axis=1)) > 0, 'total'] = 1\n",
    "df.loc[(df[sum_cols].sum(axis=1)) == 0, 'total'] = 0\n",
    "\n",
    "from imblearn.under_sampling import RandomUnderSampler\n",
    "\n",
    "#To create the feature set\n",
    "features = df['comment_text'].values.reshape(-1, 1)\n",
    "\n",
    "#To create the labels set\n",
    "labels = df['total'].values\n",
    "\n",
    "#undersample\n",
    "rus = RandomUnderSampler(random_state=42)\n",
    "X_resampled, y_resampled = rus.fit_resample(features, labels)\n",
    "\n",
    "\n",
    "print(f\"X_resampled.shape: {X_resampled.shape}\")\n",
    "print(f\"y_resampled.shape: {y_resampled.shape}\")"
   ]
  },
  {
   "cell_type": "code",
   "execution_count": 162,
   "id": "b116fcb4",
   "metadata": {},
   "outputs": [],
   "source": [
    "import pandas as pd\n",
    "from sklearn.preprocessing import MultiLabelBinarizer\n",
    "from imblearn.under_sampling import RandomUnderSampler\n",
    "from tensorflow.keras.preprocessing.sequence import pad_sequences\n",
    "from tensorflow.keras.preprocessing.text import Tokenizer\n",
    "from tensorflow.keras.models import Sequential\n",
    "from tensorflow.keras import layers, regularizers\n",
    "\n",
    "\n",
    "\n",
    "# Load the data\n",
    "df = pd.read_csv('/Users/youli/Desktop/UC_Irvine/WQ_2023/CS273P/project/jigsaw-toxic-comment-classification-challenge-2/train.csv')\n",
    "\n",
    "sum_cols = ['toxic', 'severe_toxic', 'obscene', 'threat', 'insult', 'identity_hate']\n",
    "\n",
    "# Create a new column 'total' containing 1 if any of the sum_cols has a non-zero value, and 0 otherwise\n",
    "df['total'] = df[sum_cols].apply(lambda x: 1 if sum(x) > 0 else 0, axis=1)\n",
    "\n",
    "# Undersample the data\n",
    "rus = RandomUnderSampler(random_state=42)\n",
    "X_resampled, y_resampled_total = rus.fit_resample(df['comment_text'].values.reshape(-1, 1), df['total'].values)\n",
    "\n",
    "# Get the index of resampled data\n",
    "resampled_indices = rus.sample_indices_\n",
    "\n",
    "# Extract the original multi-label format using the resampled indices\n",
    "y_resampled = df.loc[resampled_indices, sum_cols].values\n",
    "\n",
    "# Tokenize the text data\n",
    "MAX_NUM_WORDS = 2000\n",
    "tokenizer = Tokenizer(num_words=MAX_NUM_WORDS)\n",
    "tokenizer.fit_on_texts(X_resampled.flatten())\n",
    "sequences = tokenizer.texts_to_sequences(X_resampled.flatten())\n",
    "\n",
    "# Pad the sequences\n",
    "MAX_SEQUENCE_LENGTH = 200\n",
    "data = pad_sequences(sequences, maxlen=MAX_SEQUENCE_LENGTH)\n"
   ]
  },
  {
   "cell_type": "code",
   "execution_count": 210,
   "id": "f7eaa276",
   "metadata": {},
   "outputs": [
    {
     "name": "stdout",
     "output_type": "stream",
     "text": [
      "Model: \"sequential_36\"\n",
      "_________________________________________________________________\n",
      " Layer (type)                Output Shape              Param #   \n",
      "=================================================================\n",
      " embedding_35 (Embedding)    (None, 200, 100)          7114100   \n",
      "                                                                 \n",
      " conv1d_35 (Conv1D)          (None, 196, 128)          64128     \n",
      "                                                                 \n",
      " global_max_pooling1d_34 (Gl  (None, 128)              0         \n",
      " obalMaxPooling1D)                                               \n",
      "                                                                 \n",
      " dense_280 (Dense)           (None, 128)               16512     \n",
      "                                                                 \n",
      " dropout_102 (Dropout)       (None, 128)               0         \n",
      "                                                                 \n",
      " dense_281 (Dense)           (None, 64)                8256      \n",
      "                                                                 \n",
      " dropout_103 (Dropout)       (None, 64)                0         \n",
      "                                                                 \n",
      " dense_282 (Dense)           (None, 32)                2080      \n",
      "                                                                 \n",
      " dropout_104 (Dropout)       (None, 32)                0         \n",
      "                                                                 \n",
      " dense_283 (Dense)           (None, 16)                528       \n",
      "                                                                 \n",
      " dense_284 (Dense)           (None, 16)                272       \n",
      "                                                                 \n",
      " dense_285 (Dense)           (None, 8)                 136       \n",
      "                                                                 \n",
      " dense_286 (Dense)           (None, 8)                 72        \n",
      "                                                                 \n",
      " dense_287 (Dense)           (None, 6)                 54        \n",
      "                                                                 \n",
      "=================================================================\n",
      "Total params: 7,206,138\n",
      "Trainable params: 7,206,138\n",
      "Non-trainable params: 0\n",
      "_________________________________________________________________\n",
      "Epoch 1/30\n",
      "203/203 [==============================] - 15s 69ms/step - loss: 0.3926 - accuracy: 0.7294 - val_loss: 0.5821 - val_accuracy: 0.6071\n",
      "Epoch 2/30\n",
      "203/203 [==============================] - 14s 68ms/step - loss: 0.2332 - accuracy: 0.9393 - val_loss: 0.5042 - val_accuracy: 0.9391\n",
      "Epoch 3/30\n",
      "203/203 [==============================] - 14s 68ms/step - loss: 0.2060 - accuracy: 0.9198 - val_loss: 0.4125 - val_accuracy: 0.6957\n",
      "Epoch 4/30\n",
      "203/203 [==============================] - 15s 73ms/step - loss: 0.1694 - accuracy: 0.9767 - val_loss: 0.3912 - val_accuracy: 0.9413\n",
      "Epoch 5/30\n",
      "203/203 [==============================] - 14s 71ms/step - loss: 0.1579 - accuracy: 0.9788 - val_loss: 0.4078 - val_accuracy: 0.9413\n",
      "Epoch 6/30\n",
      "203/203 [==============================] - 14s 70ms/step - loss: 0.1496 - accuracy: 0.9788 - val_loss: 0.3983 - val_accuracy: 0.9413\n",
      "Epoch 7/30\n",
      "203/203 [==============================] - 13s 66ms/step - loss: 0.1428 - accuracy: 0.9788 - val_loss: 0.4099 - val_accuracy: 0.9413\n",
      "Epoch 8/30\n",
      "203/203 [==============================] - 15s 71ms/step - loss: 0.1361 - accuracy: 0.9788 - val_loss: 0.4185 - val_accuracy: 0.9413\n",
      "Epoch 9/30\n",
      "203/203 [==============================] - 15s 74ms/step - loss: 0.1289 - accuracy: 0.9788 - val_loss: 0.4324 - val_accuracy: 0.9413\n",
      "Epoch 10/30\n",
      "203/203 [==============================] - 14s 69ms/step - loss: 0.1239 - accuracy: 0.9788 - val_loss: 0.4401 - val_accuracy: 0.9413\n",
      "Epoch 11/30\n",
      "203/203 [==============================] - 13s 66ms/step - loss: 0.1180 - accuracy: 0.9788 - val_loss: 0.4935 - val_accuracy: 0.9413\n",
      "Epoch 12/30\n",
      "203/203 [==============================] - 14s 71ms/step - loss: 0.1139 - accuracy: 0.9788 - val_loss: 0.4977 - val_accuracy: 0.9413\n",
      "Epoch 13/30\n",
      "203/203 [==============================] - 14s 67ms/step - loss: 0.1102 - accuracy: 0.9788 - val_loss: 0.5074 - val_accuracy: 0.9413\n",
      "Epoch 14/30\n",
      "203/203 [==============================] - 15s 76ms/step - loss: 0.1071 - accuracy: 0.9788 - val_loss: 0.5760 - val_accuracy: 0.9413\n",
      "Epoch 15/30\n",
      "203/203 [==============================] - 15s 75ms/step - loss: 0.1037 - accuracy: 0.9788 - val_loss: 0.6639 - val_accuracy: 0.9413\n",
      "Epoch 16/30\n",
      "203/203 [==============================] - 15s 73ms/step - loss: 0.1015 - accuracy: 0.9788 - val_loss: 0.6071 - val_accuracy: 0.9413\n",
      "Epoch 17/30\n",
      "203/203 [==============================] - 14s 70ms/step - loss: 0.0994 - accuracy: 0.9785 - val_loss: 0.5340 - val_accuracy: 0.9410\n",
      "Epoch 18/30\n",
      "203/203 [==============================] - 14s 70ms/step - loss: 0.0981 - accuracy: 0.9413 - val_loss: 0.6230 - val_accuracy: 0.7629\n",
      "Epoch 19/30\n",
      "203/203 [==============================] - 15s 76ms/step - loss: 0.0971 - accuracy: 0.9084 - val_loss: 0.5972 - val_accuracy: 0.7157\n",
      "Epoch 20/30\n",
      "203/203 [==============================] - 14s 69ms/step - loss: 0.0953 - accuracy: 0.8886 - val_loss: 0.5985 - val_accuracy: 0.7428\n",
      "Epoch 21/30\n",
      "203/203 [==============================] - 14s 69ms/step - loss: 0.0939 - accuracy: 0.8715 - val_loss: 0.6583 - val_accuracy: 0.6820\n",
      "Epoch 22/30\n",
      "203/203 [==============================] - 14s 68ms/step - loss: 0.0929 - accuracy: 0.8644 - val_loss: 0.6471 - val_accuracy: 0.6590\n",
      "Epoch 23/30\n",
      "203/203 [==============================] - 14s 69ms/step - loss: 0.0919 - accuracy: 0.8532 - val_loss: 0.6747 - val_accuracy: 0.6792\n",
      "Epoch 24/30\n",
      "203/203 [==============================] - 14s 67ms/step - loss: 0.0913 - accuracy: 0.8480 - val_loss: 0.6212 - val_accuracy: 0.6028\n",
      "Epoch 25/30\n",
      "203/203 [==============================] - 14s 68ms/step - loss: 0.0906 - accuracy: 0.8414 - val_loss: 0.7332 - val_accuracy: 0.5462\n",
      "Epoch 26/30\n",
      "203/203 [==============================] - 14s 70ms/step - loss: 0.0891 - accuracy: 0.8320 - val_loss: 0.6611 - val_accuracy: 0.6473\n",
      "Epoch 27/30\n",
      "203/203 [==============================] - 14s 67ms/step - loss: 0.0887 - accuracy: 0.8202 - val_loss: 0.6938 - val_accuracy: 0.6703\n",
      "Epoch 28/30\n",
      "203/203 [==============================] - 14s 69ms/step - loss: 0.0875 - accuracy: 0.7838 - val_loss: 0.6883 - val_accuracy: 0.6328\n",
      "Epoch 29/30\n",
      "203/203 [==============================] - 14s 67ms/step - loss: 0.0861 - accuracy: 0.6993 - val_loss: 0.7483 - val_accuracy: 0.5465\n",
      "Epoch 30/30\n",
      "203/203 [==============================] - 14s 68ms/step - loss: 0.0842 - accuracy: 0.7171 - val_loss: 0.7701 - val_accuracy: 0.5128\n"
     ]
    }
   ],
   "source": [
    "# Build the model\n",
    "word_index = tokenizer.word_index\n",
    "model = Sequential()\n",
    "model.add(layers.Embedding(input_dim=len(word_index) + 1, output_dim=100, input_length=MAX_SEQUENCE_LENGTH))\n",
    "model.add(layers.Conv1D(filters=128, kernel_size=5, activation='relu'))\n",
    "model.add(layers.GlobalMaxPooling1D())\n",
    "model.add(layers.Dense(128, activation='relu', kernel_regularizer=regularizers.l1_l2(l1=1e-5, l2=1e-4)))\n",
    "model.add(layers.Dropout(0.35))\n",
    "model.add(layers.Dense(64, activation='relu', kernel_regularizer=regularizers.l1_l2(l1=1e-5, l2=1e-4)))\n",
    "model.add(layers.Dropout(0.35))\n",
    "model.add(layers.Dense(32, activation='relu', kernel_regularizer=regularizers.l1_l2(l1=1e-5, l2=1e-4)))\n",
    "model.add(layers.Dropout(0.35))\n",
    "model.add(layers.Dense(16, activation='relu'))\n",
    "model.add(layers.Dense(16, activation='relu'))\n",
    "model.add(layers.Dense(8, activation='relu'))\n",
    "model.add(layers.Dense(8, activation='relu'))\n",
    "model.add(layers.Dense(6, activation='sigmoid'))\n",
    "model.compile(optimizer='adam', loss='binary_crossentropy', metrics=['accuracy'])\n",
    "model.summary()\n",
    "\n",
    "# Train the model\n",
    "EPOCHS = 30\n",
    "BATCH_SIZE = 128\n",
    "history = model.fit(data, y_resampled, epochs=EPOCHS, batch_size=BATCH_SIZE, validation_split=0.2)\n",
    "\n"
   ]
  },
  {
   "cell_type": "code",
   "execution_count": 212,
   "id": "9aab08d6",
   "metadata": {},
   "outputs": [
    {
     "name": "stdout",
     "output_type": "stream",
     "text": [
      "4787/4787 [==============================] - 19s 4ms/step\n"
     ]
    }
   ],
   "source": [
    "# Load the test data\n",
    "test_df=pd.read_csv('/Users/youli/Desktop/UC_Irvine/WQ_2023/CS273P/project/jigsaw-toxic-comment-classification-challenge-2/test.csv')\n",
    "test_labels_df = pd.read_csv('/Users/youli/Desktop/UC_Irvine/WQ_2023/CS273P/project/jigsaw-toxic-comment-classification-challenge-2/test_labels.csv')\n",
    "\n",
    "merged_test_df = test_df.merge(test_labels_df, on='id')\n",
    "\n",
    "# Prepare the test data\n",
    "test_comment_texts = merged_test_df['comment_text'].values\n",
    "test_sequences = tokenizer.texts_to_sequences(test_comment_texts)\n",
    "X_test_padded = pad_sequences(test_sequences, maxlen=MAX_SEQUENCE_LENGTH)\n",
    "\n",
    "# Predict probabilities for the test data\n",
    "probabilities = model.predict(X_test_padded)\n",
    "\n",
    "# Create the result dataframe\n",
    "result = pd.DataFrame(probabilities, columns=sum_cols)\n",
    "result.insert(0, 'id', merged_test_df['id'])"
   ]
  },
  {
   "cell_type": "code",
   "execution_count": 215,
   "id": "3ac622a2",
   "metadata": {},
   "outputs": [
    {
     "name": "stdout",
     "output_type": "stream",
     "text": [
      "Accuracy: 0.79\n",
      "Precision: 0.42\n",
      "Recall: 0.70\n",
      "F1-score: 0.53\n",
      "ROC-AUC score: 0.94\n"
     ]
    }
   ],
   "source": [
    "import numpy as np\n",
    "from sklearn.metrics import accuracy_score, precision_score, recall_score, f1_score, roc_auc_score\n",
    "\n",
    "\n",
    "y_test = merged_test_df[sum_cols].values\n",
    "\n",
    "\n",
    "known_label_indices = np.where(np.all(y_test != -1, axis=1))[0]\n",
    "y_test_filtered = y_test[known_label_indices]\n",
    "predictions_filtered = predictions[known_label_indices]\n",
    "probabilities_filtered = probabilities[known_label_indices]\n",
    "\n",
    "\n",
    "threshold = 0.6\n",
    "predictions_filtered = (probabilities_filtered > threshold).astype(int)\n",
    "\n",
    "\n",
    "accuracy = accuracy_score(y_test_filtered, predictions_filtered)\n",
    "precision = precision_score(y_test_filtered, predictions_filtered, average='micro', zero_division=0)\n",
    "recall = recall_score(y_test_filtered, predictions_filtered, average='micro', zero_division=0)\n",
    "f1 = f1_score(y_test_filtered, predictions_filtered, average='micro', zero_division=0)\n",
    "roc_auc = roc_auc_score(y_test_filtered, probabilities_filtered, average='macro', multi_class='ovr')\n",
    "\n",
    "print(f'Accuracy: {accuracy:.2f}')\n",
    "print(f'Precision: {precision:.2f}')\n",
    "print(f'Recall: {recall:.2f}')\n",
    "print(f'F1-score: {f1:.2f}')\n",
    "print(f'ROC-AUC score: {roc_auc:.2f}')\n",
    "\n"
   ]
  },
  {
   "cell_type": "code",
   "execution_count": 158,
   "id": "cb1d6a75",
   "metadata": {},
   "outputs": [
    {
     "data": {
      "text/plain": [
       "(153164, 6)"
      ]
     },
     "execution_count": 158,
     "metadata": {},
     "output_type": "execute_result"
    }
   ],
   "source": [
    "predictions.shape"
   ]
  },
  {
   "cell_type": "code",
   "execution_count": 216,
   "id": "0a6a6e55",
   "metadata": {},
   "outputs": [
    {
     "data": {
      "image/png": "[encoded data removed]",
      "text/plain": [
       "<Figure size 640x480 with 1 Axes>"
      ]
     },
     "metadata": {},
     "output_type": "display_data"
    }
   ],
   "source": [
    "import matplotlib.pyplot as plt\n",
    "\n",
    "# Plot training & validation loss values\n",
    "plt.plot(history.history['loss'])\n",
    "plt.plot(history.history['val_loss'])\n",
    "plt.title('Model loss')\n",
    "plt.ylabel('Loss')\n",
    "plt.xlabel('Epoch')\n",
    "plt.legend(['Train', 'Validation'], loc='upper right')\n",
    "plt.show()\n"
   ]
  }
 ],
 "metadata": {
  "kernelspec": {
   "display_name": "Python 3 (ipykernel)",
   "language": "python",
   "name": "python3"
  },
  "language_info": {
   "codemirror_mode": {
    "name": "ipython",
    "version": 3
   },
   "file_extension": ".py",
   "mimetype": "text/x-python",
   "name": "python",
   "nbconvert_exporter": "python",
   "pygments_lexer": "ipython3",
   "version": "3.10.8"
  }
 },
 "nbformat": 4,
 "nbformat_minor": 5
}
