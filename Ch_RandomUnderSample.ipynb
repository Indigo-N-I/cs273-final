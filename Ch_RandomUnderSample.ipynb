{
 "cells": [
  {
   "cell_type": "code",
   "execution_count": 2,
   "id": "114bf436",
   "metadata": {},
   "outputs": [
    {
     "name": "stdout",
     "output_type": "stream",
     "text": [
      "0.10.1\n"
     ]
    }
   ],
   "source": [
    "# check version number\n",
    "import imblearn\n",
    "print(imblearn.__version__)"
   ]
  },
  {
   "cell_type": "code",
   "execution_count": 4,
   "id": "d8c1f436",
   "metadata": {},
   "outputs": [],
   "source": [
    "from imblearn.under_sampling import RandomUnderSampler\n",
    "import pandas as pd"
   ]
  },
  {
   "cell_type": "code",
   "execution_count": 17,
   "id": "b4be6bfd",
   "metadata": {},
   "outputs": [
    {
     "name": "stdout",
     "output_type": "stream",
     "text": [
      "                      id                                       comment_text\n",
      "0       0000997932d777bf  Explanation\\nWhy the edits made under my usern...\n",
      "1       000103f0d9cfb60f  D'aww! He matches this background colour I'm s...\n",
      "2       000113f07ec002fd  Hey man, I'm really not trying to edit war. It...\n",
      "3       0001b41b1c6bb37e  \"\\nMore\\nI can't make any real suggestions on ...\n",
      "4       0001d958c54c6e35  You, sir, are my hero. Any chance you remember...\n",
      "...                  ...                                                ...\n",
      "159566  ffe987279560d7ff  \":::::And for the second time of asking, when ...\n",
      "159567  ffea4adeee384e90  You should be ashamed of yourself \\n\\nThat is ...\n",
      "159568  ffee36eab5c267c9  Spitzer \\n\\nUmm, theres no actual article for ...\n",
      "159569  fff125370e4aaaf3  And it looks like it was actually you who put ...\n",
      "159570  fff46fc426af1f9a  \"\\nAnd ... I really don't think you understand...\n",
      "\n",
      "[159571 rows x 2 columns]\n",
      "    toxic  severe_toxic  obscene  threat  insult  identity_hate\n",
      "0  144277        157976   151122  159093  151694         158166\n",
      "1   15294          1595     8449     478    7877           1405\n"
     ]
    }
   ],
   "source": [
    "\n",
    "df = pd.read_csv('/Users/youli/Desktop/UC_Irvine/WQ_2023/CS273P/project/jigsaw-toxic-comment-classification-challenge-2/train.csv')\n",
    "\n",
    "\n",
    "labels = ['toxic', 'severe_toxic', 'obscene', 'threat', 'insult', 'identity_hate']\n",
    "\n",
    "\n",
    "X = df.drop(labels, axis=1)\n",
    "y = df[labels]\n",
    "\n",
    "\n",
    "label_counts = y.apply(pd.Series.value_counts)\n",
    "\n",
    "\n",
    "print(label_counts)"
   ]
  },
  {
   "cell_type": "code",
   "execution_count": 31,
   "id": "6fa22c3e",
   "metadata": {},
   "outputs": [
    {
     "name": "stdout",
     "output_type": "stream",
     "text": [
      "X_resampled.shape: (32450, 1)\n",
      "y_resampled.shape: (32450,)\n"
     ]
    }
   ],
   "source": [
    "from sklearn.preprocessing import MultiLabelBinarizer\n",
    "\n",
    "#sum all cols to total\n",
    "mlb = MultiLabelBinarizer()\n",
    "sum_cols = ['toxic', 'severe_toxic', 'obscene', 'threat', 'insult', 'identity_hate']\n",
    "df.loc[(df[sum_cols].sum(axis=1)) > 0, 'total'] = 1\n",
    "df.loc[(df[sum_cols].sum(axis=1)) == 0, 'total'] = 0\n",
    "# df['total'] = (0,1)[bool(df[sum_cols].sum(axis=1))]\n",
    "# for i in range(len(df['total'])):\n",
    "#     if(df['total'][i]>0):\n",
    "#         df['total'][i]=1\n",
    "\n",
    "\n",
    "from imblearn.under_sampling import RandomUnderSampler\n",
    "\n",
    "#To create the feature set\n",
    "features = df['comment_text'].values.reshape(-1, 1)\n",
    "\n",
    "#To create the labels set\n",
    "labels = df['total'].values\n",
    "\n",
    "#undersample\n",
    "rus = RandomUnderSampler(random_state=42)\n",
    "X_resampled, y_resampled = rus.fit_resample(features, labels)\n",
    "\n",
    "\n",
    "print(f\"X_resampled.shape: {X_resampled.shape}\")\n",
    "print(f\"y_resampled.shape: {y_resampled.shape}\")"
   ]
  },
  {
   "cell_type": "code",
   "execution_count": null,
   "id": "ec3fc988",
   "metadata": {},
   "outputs": [],
   "source": []
  }
 ],
 "metadata": {
  "kernelspec": {
   "display_name": "Python 3 (ipykernel)",
   "language": "python",
   "name": "python3"
  },
  "language_info": {
   "codemirror_mode": {
    "name": "ipython",
    "version": 3
   },
   "file_extension": ".py",
   "mimetype": "text/x-python",
   "name": "python",
   "nbconvert_exporter": "python",
   "pygments_lexer": "ipython3",
   "version": "3.10.8"
  }
 },
 "nbformat": 4,
 "nbformat_minor": 5
}
